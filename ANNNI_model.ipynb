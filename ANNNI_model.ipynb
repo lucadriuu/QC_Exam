{
 "cells": [
  {
   "cell_type": "markdown",
   "id": "1721f764-e8d8-4733-8655-2da088fa6943",
   "metadata": {},
   "source": [
    "# Modello ANNNI - Evoluzione temporale e correlazioni\n",
    "Luca Driussi, Carlo Tortora, Beatrice Volpato\n",
    "<br>\n",
    "Progetto di Computazione Quantistica\n",
    "<br>\n",
    "Anno 2024/25\n",
    "\n",
    "## Introduzione\n",
    "\n",
    "Il seguente progetto d'esame è dedicato allo studio del modello ANNNI (Axial-Next-Nearest-Neighbor-Ising). Questo modello è un'estensione del modello di Ising che include interazioni tra spin secondi vicini, rendendolo particolarmente interessante per l'analisi di transizioni di fase e fenomeni di frustrazione magnetica. \n",
    "Studiamo il modello ANNNI per una catena unidimensionale di L spin, per cui si considera un'Hamiltoniana della forma:\n",
    "\n",
    "$$\n",
    "H_{ANNNI}=-J\\sum_{i}(\\sigma_z^i\\sigma_z^{i+1}-\\kappa\\sigma_z^i\\sigma_z^{i+2}+h\\sigma_x^i).\n",
    "$$\n",
    "\n",
    "Il parametro J determina l'intensità complessiva delle interazioni ed è fissato a 1. Il parametro di frustrazione $\\kappa$ e il campo magnetico h, entrambi non negativi, vengono fatti variare.\n",
    "Facendo uso del framework Qiskit, l'obiettivo principale di questo lavoro è stato analizzare l'evoluzione temporale di alcune osservabili di interesse con due approcci diversi:\n",
    "\n",
    "- Evoluzione esatta: ottenuta diagonalizzando l'Hamiltoniana del sistema;\n",
    "\n",
    "- Trotterizzazione all’ordine 2, che permette di approssimare l'evoluzione temporale sfruttando la decomposizione di Suzuki-Trotter.\n",
    "\n",
    "Le osservabili studiate sono l'energia totale del sistema, la magnetizzazione per spin lungo $z$, lungo $x$ e la correlazione tra spin $i$-esimo e spin $j$-esimo.\n",
    "\n",
    "$$\n",
    "H=-J\\sum_{i}(\\sigma_z^i\\sigma_z^{i+1}-\\kappa\\sigma_z^i\\sigma_z^{i+2}+h\\sigma_x^i)\n",
    "$$\n",
    "$$\n",
    "M_z=\\frac{1}{L}\\sum_i \\sigma_z^i\n",
    "$$\n",
    "$$\n",
    "M_x=\\frac{1}{L}\\sum_i \\sigma_x^i\n",
    "$$\n",
    "$$\n",
    "C(i,j)=<\\sigma_x^i\\sigma_x^{i+j}>-<\\sigma_x^i><\\sigma_x^{i+j}>.\n",
    "$$"
   ]
  },
  {
   "cell_type": "markdown",
   "id": "52f40d57-03a8-4921-8c30-c9ba56e0f3ee",
   "metadata": {},
   "source": [
    "## Evoluzione temporale\n",
    "\n",
    "Il sistema viene fatto evolvere secondo l'Hamiltoniana sia in modo esatto che con la trotterizzazione al secondo ordine. A tal fine, si utilizza un circuito ideale, privo di rumore. L'evoluzione temporale con il metodo della trotterizzazione è basato sul poter esprimere l'Hamiltoniana del sistema come una somma di termini $H_j$ costituiti da operatori di Pauli. La particolare formula utilizzata dipenderà dall'ordine di trotterizzazione scelto: \n",
    "\n",
    "- Formula di Lie-Trotter al primo ordine:\n",
    "$$\n",
    "e^{-iHt} = \\left(\\prod_{j=1}^M e^{-i a_j H_j dt} \\right)^{steps} + \\mathcal{O}(dt^2) = U_1 + \\mathcal{O}(dt^2)\n",
    "$$\n",
    "- Formula di Suzuki-Trotter al secondo ordine:\n",
    "$$\n",
    "e^{-iHt} = \\left(\\prod_{j=1}^M e^{-i a_j H_j dt/2} \\prod_{j=M}^1 e^{-i a_j H_j dt/2} \\right)^{steps} + \\mathcal{O}(dt^3) = U_2 + \\mathcal{O}(dt^2)\n",
    "$$\n",
    "\n",
    "\n",
    "### Analisi degli errori\n",
    "È noto che l'errore introdotto dalla trotterizzazione al secondo ordine per un'Hamiltoniana della forma $H=A+B$ debba soddisfare la relazione\n",
    "$$\n",
    "||U_2-e^{-iHt}||\\leq \\frac{t^3}{12}||[B,[B,A]]||+\\frac{t^3}{24}||[A,[A,B]]||\n",
    "$$\n",
    "In questo caso, prendendo \n",
    "\n",
    "$A=-J\\sum_{i}(\\sigma_z^i\\sigma_z^{i+1}-\\kappa\\sigma_z^i\\sigma_z^{i+2})$ \n",
    "\n",
    "$B=-J\\sum_{i}h\\sigma_x^i$\n",
    "\n",
    "otteniamo che l'errore scala cubicamente nel tempo di evoluzione t e quadraticamente nell'intensità del campo magnetico esterno h:\n",
    "$$\n",
    "||U_2-e^{-iHt}|| \\lesssim t^{3}h^{2}\n",
    "$$\n",
    "\n",
    "### Studio della dinamica"
   ]
  },
  {
   "cell_type": "markdown",
   "id": "044a42c7",
   "metadata": {},
   "source": []
  },
  {
   "cell_type": "markdown",
   "id": "96586a74",
   "metadata": {},
   "source": []
  },
  {
   "cell_type": "markdown",
   "id": "4f23f7b5-a57e-4d9c-b3ac-b40bf42cdf2c",
   "metadata": {},
   "source": [
    "## Studio delle correlazioni"
   ]
  },
  {
   "cell_type": "code",
   "execution_count": null,
   "id": "9fdb3143-fea8-4112-856b-b2e41f904a6a",
   "metadata": {},
   "outputs": [],
   "source": []
  }
 ],
 "metadata": {
  "kernelspec": {
   "display_name": "qctrieste24",
   "language": "python",
   "name": "python3"
  },
  "language_info": {
   "codemirror_mode": {
    "name": "ipython",
    "version": 3
   },
   "file_extension": ".py",
   "mimetype": "text/x-python",
   "name": "python",
   "nbconvert_exporter": "python",
   "pygments_lexer": "ipython3",
   "version": "3.10.15"
  }
 },
 "nbformat": 4,
 "nbformat_minor": 5
}
