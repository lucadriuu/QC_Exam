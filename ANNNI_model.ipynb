{
 "cells": [
  {
   "cell_type": "markdown",
   "id": "1721f764-e8d8-4733-8655-2da088fa6943",
   "metadata": {},
   "source": [
    "# Modello ANNNI - Evoluzione temporale e correlazioni\n",
    "Luca Driussi, Carlo Tortora, Beatrice Volpato\n",
    "<br>\n",
    "Progetto di Computazione Quantistica\n",
    "<br>\n",
    "Anno 2024/25\n",
    "\n",
    "## Introduzione\n",
    "\n",
    "Il seguente progetto è dedicato allo studio del modello Axial-Next-Nearest-Neighbor-Ising. Questo modello viene applicato a una catena unidimensionale di L spin, per cui si considera un'Hamiltoniana\n",
    "<br>\n",
    "> $H=-J\\sum_{i}(\\sigma_z^i\\sigma_z^{i+1}-\\kappa\\sigma_z^i\\sigma_z^{i+2}+h\\sigma_x^i)$.\n",
    "\n",
    "Il parametro J determina l'intensità complessiva delle interazioni ed è fissato a 1. Il parametro di frustrazione $\\kappa$ e il campo magnetico h, entrambi non negativi, vengono fatti variare.\n",
    "\n",
    "Oltre all'energia, si considerano anche magnetizzazione e correlazione tra spin come osservabili importanti.\n",
    "<br>\n",
    "> $H=-J\\sum_{i}(\\sigma_z^i\\sigma_z^{i+1}-\\kappa\\sigma_z^i\\sigma_z^{i+2}+h\\sigma_x^i)$\n",
    "> <br>\n",
    "> $M_z=\\sum_i \\sigma_z^i$\n",
    "> <br>\n",
    "> $M_x=\\sum_i \\sigma_x^i$\n",
    "> <br>\n",
    "> $C(i,j)=<\\sigma_x^i\\sigma_x^{i+j}>-<\\sigma_x^i><\\sigma_x^{i+j}>$."
   ]
  },
  {
   "cell_type": "markdown",
   "id": "52f40d57-03a8-4921-8c30-c9ba56e0f3ee",
   "metadata": {},
   "source": [
    "## Evoluzione temporale\n",
    "\n",
    "Il sistema viene fatto evolvere secondo l'Hamiltoniana sia in modo esatto che con la trotterizzazione al secondo ordine. A tal fine, si utilizza un circuito ideale, privo di rumore. "
   ]
  },
  {
   "cell_type": "code",
   "execution_count": null,
   "id": "77dbc1ed-e9b9-44e5-b5c0-9c7c6e4f2e0f",
   "metadata": {},
   "outputs": [],
   "source": []
  }
 ],
 "metadata": {
  "kernelspec": {
   "display_name": "Python 3 (ipykernel)",
   "language": "python",
   "name": "python3"
  },
  "language_info": {
   "codemirror_mode": {
    "name": "ipython",
    "version": 3
   },
   "file_extension": ".py",
   "mimetype": "text/x-python",
   "name": "python",
   "nbconvert_exporter": "python",
   "pygments_lexer": "ipython3",
   "version": "3.12.3"
  }
 },
 "nbformat": 4,
 "nbformat_minor": 5
}
