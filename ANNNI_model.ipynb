{
 "cells": [
  {
   "cell_type": "markdown",
   "id": "1721f764-e8d8-4733-8655-2da088fa6943",
   "metadata": {},
   "source": [
    "# Modello ANNNI - Evoluzione temporale e correlazioni\n",
    "Luca Driussi, Carlo Tortora, Beatrice Volpato\n",
    "<br>\n",
    "Progetto di Computazione Quantistica\n",
    "<br>\n",
    "Anno 2024/25\n",
    "\n",
    "## Introduzione\n",
    "\n",
    "Il seguente progetto d'esame è dedicato allo studio del modello ANNNI (Axial-Next-Nearest-Neighbor-Ising). Questo modello, particolarmente interessante per l'analisi di transizioni di fase e fenomeni di frustrazione magnetica, è un'estensione del modello di Ising  che include interazioni tra spin secondi vicini.\n",
    "Studiamo il modello ANNNI per una catena unidimensionale di L spin, per consideriamo un'Hamiltoniana della forma:\n",
    "\n",
    "$$\n",
    "H_{ANNNI}=-J\\sum_{i}(\\sigma_z^i\\sigma_z^{i+1}-\\kappa\\sigma_z^i\\sigma_z^{i+2}+h\\sigma_x^i).\n",
    "$$\n",
    "\n",
    "Il sistema è unidimensionale, dove $\\sigma^i_\\alpha$ sono le matrici di Pauli lungo la direzione i-esima dello spin,  $\\sigma^i_\\alpha\\in \\{x,y,z\\} $ e assumiamo gli estremi della catena liberi. La scala di energia dell'Hamiltoniana è determinata dalla costante di accoppiamento \n",
    "J (senza perdere generalità poniamo $J=1$), mentre i parametri adimensionali $\\kappa$ e $h$ rappresentano rispettivamente l'interazione con il secondo vicino e con il campo magnetico trasverso. Ci limitiamo ai casi con $\\kappa\\geq 0$, $h\\geq 0$.\n",
    "Facendo uso del framework Qiskit, l'obiettivo principale di questo lavoro è stato analizzare l'evoluzione temporale di alcune osservabili di interesse con due approcci:\n",
    "\n",
    "- Evoluzione esatta: ottenuta diagonalizzando l'Hamiltoniana del sistema;\n",
    "\n",
    "- Trotterizzazione all’ordine 2: permette di approssimare l'evoluzione temporale sfruttando la decomposizione di Suzuki-Trotter.\n",
    "\n",
    "Oltre l'energia totale del sistema, le osservabili studiate sono la magnetizzazione per spin lungo $z$, lungo $x$ e la correlazione tra spin $i$-esimo e spin $j$-esimo:\n",
    "\n",
    "$$\n",
    "M_z=\\frac{1}{L}\\sum_i \\sigma_z^i\n",
    "$$\n",
    "$$\n",
    "M_x=\\frac{1}{L}\\sum_i \\sigma_x^i\n",
    "$$\n",
    "$$\n",
    "C(i,j)=<\\sigma_x^i\\sigma_x^{i+j}>-<\\sigma_x^i><\\sigma_x^{i+j}>.\n",
    "$$"
   ]
  },
  {
   "cell_type": "markdown",
   "id": "04646194",
   "metadata": {},
   "source": [
    "## Diagramma di fase\n",
    "\n",
    "Il diagramma di fase a $T = 0K$ presenta tre fasi separate da due transizioni di fase del secondo ordine:\n",
    "\n",
    "- Fase ferromagnetica ($k<0.5$): l'interazione tra primi vicini è quella dominante e tutti gli spin sono allineati nella direzione $z$, questo implica una magnetizzazione $M_z$ uniforme. \n",
    "- Fase paramagnetica: il campo magnetico trasverso domina, causando l'allineamento degli spin nella direzione $x$. Dunque la magnetizzazione lungo $x$ si rivela un parametro d'ordine rilevante per l'identificazione di transizioni di fase. \n",
    "- Fase antiferromagnetica ($k>0.5$)\n",
    "\n"
   ]
  },
  {
   "cell_type": "markdown",
   "id": "be6b479e",
   "metadata": {},
   "source": [
    "## Evoluzione temporale\n",
    "\n",
    "### Trotterizzazione\n",
    "\n",
    "L'evoluzione del sistema viene simulata con il metodo della trotterizzazione al secondo ordine. In breve, questa tecnica consiste nell'applicazione ripetuta di un certo gate quantistico; questa operazione approssima l'evoluzione temporale del sistema nell'intervallo di tempo discreto $dt$. A tal fine si utilizza un circuito ideale, ovvero privo di rumore. L'evoluzione trotterizzata è basata sul fatto di poter esprimere l'Hamiltoniana del sistema come una somma di termini $H_j$ costituiti da operatori di Pauli. La particolare formula utilizzata dipenderà dall'ordine di trotterizzazione scelto, se consideriamo i primi due ordini: \n",
    "\n",
    "- Formula di Lie-Trotter al primo ordine:\n",
    "$$\n",
    "e^{-iHt} = U_1 + \\mathcal{O}(dt^2) = \\left(\\prod_{j=1}^M e^{-i a_j H_j dt} \\right)^{steps} + \\mathcal{O}(dt^2) \n",
    "$$\n",
    "- Formula di Suzuki-Trotter al secondo ordine:\n",
    "$$\n",
    "e^{-iHt} = U_2 + \\mathcal{O}(dt^3) = \\left(\\prod_{j=1}^M e^{-i a_j H_j dt/2} \\prod_{j=M}^1 e^{-i a_j H_j dt/2} \\right)^{steps} + \\mathcal{O}(dt^3) \n",
    "$$\n",
    "\n",
    "dove abbiamo il numero di steps di trotterizzazione definito come $steps = t/dt$, in cui $dt$ è la lunghezza del singolo intervallo."
   ]
  },
  {
   "cell_type": "markdown",
   "id": "52f40d57-03a8-4921-8c30-c9ba56e0f3ee",
   "metadata": {},
   "source": [
    "\n",
    "## Analisi degli errori\n",
    "Una quantità interessante da studiare è l'errore introdotto dalla trotterizzazione, il quale è definito come\n",
    "$$\n",
    "||U-e^{-iHt}||\\leq \\epsilon\n",
    "$$\n",
    "Dove $e^{-iHt}$ è l'operatore di evoluzione esatto e $U$ è l'operatore che implementa l'evoluzione trotterizzata, a un generico ordine.\n",
    "Per un'Hamiltoniana della forma $H=A+B$ l'errore introdotto è quantificato dalle seguenti formule:\n",
    "\n",
    "- Al primo ordine di trotterizzazione:    \n",
    " $$|\n",
    " |U_1-e^{-iHt}||\\leq \\frac{t^2}{2}||[B,A]||\n",
    " $$\n",
    "- Al secondo ordine di trotterizzazione:        \n",
    "$$\n",
    "||U_2-e^{-iHt}||\\leq \\frac{t^3}{12}||[B,[B,A]]||+\\frac{t^3}{24}||[A,[A,B]]||\n",
    "$$\n",
    "\n",
    "Nel nostro caso, concentrandoci sul secondo ordine e prendendo \n",
    "\n",
    "$A=-J\\sum_{i}(\\sigma_z^i\\sigma_z^{i+1}-\\kappa\\sigma_z^i\\sigma_z^{i+2})$ \n",
    "\n",
    "$B=-J\\sum_{i}h\\sigma_x^i$\n",
    "\n",
    "otteniamo che l'errore scala cubicamente nel tempo di evoluzione t e quadraticamente nell'intensità del campo magnetico esterno h:\n",
    "$$\n",
    "||U_2-e^{-iHt}|| \\lesssim t^{3}h^{2}\n",
    "$$"
   ]
  },
  {
   "cell_type": "markdown",
   "id": "796ec7b2",
   "metadata": {},
   "source": [
    "## Implementazione del modello\n",
    "\n",
    "In questa sezione descriviamo l'implementazione del modello ANNNI utilizzando il framework Qiskit.\n",
    "Per prima cosa, viene costruita l'Hamiltoniana del sistema e vengono definite le osservabili di interesse. Dopo aver importato le librerie necessarie, tra cui $\\texttt{NumPy}$, $\\texttt{Qiskit}$, $\\texttt{Matplotlib}$ e $\\texttt{SciPy}$, vengono definiti i parametri del sistema fisico. In particolare, viene definito il numero di spin L, a forza dell'interazione tra primi vicini J, l'intensità del campo magnetico trasverso h e il coefficiente di interazione tra secondi vicini k. Questi parametri determinano il comportamento della catena di spin e influenzano la sua evoluzione temporale."
   ]
  },
  {
   "cell_type": "code",
   "execution_count": null,
   "id": "3fc24b46",
   "metadata": {},
   "outputs": [],
   "source": [
    "import numpy as np\n",
    "import qiskit\n",
    "from qiskit import QuantumCircuit\n",
    "from qiskit.circuit.library import PauliEvolutionGate\n",
    "from qiskit.synthesis import SuzukiTrotter\n",
    "from qiskit.quantum_info import SparsePauliOp\n",
    "from qiskit.quantum_info import Statevector\n",
    "from qiskit.primitives import Estimator\n",
    "from qiskit.primitives import StatevectorEstimator\n",
    "from qiskit_algorithms.time_evolvers import TrotterQRTE, TimeEvolutionProblem\n",
    "import matplotlib.pyplot as plt\n",
    "import scipy as sc\n",
    "from scipy import linalg\n",
    "\n",
    "\n",
    "# --- Parametri del sistema ---\n",
    "\n",
    "L = 6                                                               # Numero di spin\n",
    "J = 1                                                               # Forza delle interazioni\n",
    "h = 0.5                                                             # Interazione con il campo esterno\n",
    "k = 0.5                                                             # Interazione tra secondi vicini\n",
    "\n",
    "\n",
    "# --- Costruzione di H con SparsePauliOp ---\n",
    "\n",
    "ZZ1_list = [(\"ZZ\", [i, i + 1], -J) for i in range(L - 1)]\n",
    "ZZ2_list = [(\"ZZ\", [i, i + 2], J*k) for i in range(L - 2)]\n",
    "X_list   = [(\"X\", [i], -J*h) for i in range(L)]\n",
    "H = SparsePauliOp.from_sparse_list([*ZZ1_list, *ZZ2_list, *X_list], num_qubits=L).simplify()\n",
    "\n",
    "\n",
    "# --- Costruzione delle osservabili ---\n",
    "\n",
    "magnetization_z_op = SparsePauliOp.from_sparse_list(                # Magnetizzazione lungo z\n",
    "    [(\"Z\", [i], 1.0) for i in range(0, L)], num_qubits=L\n",
    ")\n",
    "\n",
    "\n",
    "magnetization_x_op = SparsePauliOp.from_sparse_list(                # Magnetizzazione lungo x\n",
    "    [(\"X\", [i], 1.0) for i in range(0, L)], num_qubits=L\n",
    ")"
   ]
  },
  {
   "cell_type": "markdown",
   "id": "4f23f7b5-a57e-4d9c-b3ac-b40bf42cdf2c",
   "metadata": {},
   "source": [
    "## Studio delle correlazioni"
   ]
  },
  {
   "cell_type": "code",
   "execution_count": null,
   "id": "9fdb3143-fea8-4112-856b-b2e41f904a6a",
   "metadata": {},
   "outputs": [],
   "source": []
  }
 ],
 "metadata": {
  "kernelspec": {
   "display_name": "qctrieste24",
   "language": "python",
   "name": "python3"
  },
  "language_info": {
   "codemirror_mode": {
    "name": "ipython",
    "version": 3
   },
   "file_extension": ".py",
   "mimetype": "text/x-python",
   "name": "python",
   "nbconvert_exporter": "python",
   "pygments_lexer": "ipython3",
   "version": "3.10.15"
  }
 },
 "nbformat": 4,
 "nbformat_minor": 5
}
